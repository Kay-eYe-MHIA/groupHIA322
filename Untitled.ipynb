{
 "cells": [
  {
   "cell_type": "code",
   "execution_count": 5,
   "id": "c0161a8d-7469-4f7c-97c4-a643e92a8a6a",
   "metadata": {},
   "outputs": [],
   "source": [
    "import pandas as pd"
   ]
  },
  {
   "cell_type": "code",
   "execution_count": 15,
   "id": "d5fbb7eb-6492-4192-81cf-2d7e380c6e6f",
   "metadata": {},
   "outputs": [],
   "source": [
    "file_path = \"Uncleaned_Healthcare_Data_v2.xlsx\"\n",
    "excel_file = pd.ExcelFile(file_path)"
   ]
  },
  {
   "cell_type": "code",
   "execution_count": 17,
   "id": "dc25bc8b-a2ec-48dd-808e-8c4beb6c6e18",
   "metadata": {},
   "outputs": [
    {
     "data": {
      "text/plain": [
       "['FactTable',\n",
       " 'dimPatient',\n",
       " 'dimTransaction',\n",
       " 'dimPhysician',\n",
       " 'dimPayer',\n",
       " 'dimLocation',\n",
       " 'dimDiagnosisCode',\n",
       " 'dimCptCode',\n",
       " 'dimDate']"
      ]
     },
     "execution_count": 17,
     "metadata": {},
     "output_type": "execute_result"
    }
   ],
   "source": [
    "excel_file.sheet_names"
   ]
  },
  {
   "cell_type": "code",
   "execution_count": 19,
   "id": "cb394f53-a0ad-45aa-9e06-c5f56216c3e5",
   "metadata": {},
   "outputs": [],
   "source": [
    "fact_table = excel_file.parse('FactTable')"
   ]
  },
  {
   "cell_type": "code",
   "execution_count": 20,
   "id": "3c9a7489-39e8-4e6c-80aa-6da0fcfe521d",
   "metadata": {},
   "outputs": [
    {
     "data": {
      "text/html": [
       "<div>\n",
       "<style scoped>\n",
       "    .dataframe tbody tr th:only-of-type {\n",
       "        vertical-align: middle;\n",
       "    }\n",
       "\n",
       "    .dataframe tbody tr th {\n",
       "        vertical-align: top;\n",
       "    }\n",
       "\n",
       "    .dataframe thead th {\n",
       "        text-align: right;\n",
       "    }\n",
       "</style>\n",
       "<table border=\"1\" class=\"dataframe\">\n",
       "  <thead>\n",
       "    <tr style=\"text-align: right;\">\n",
       "      <th></th>\n",
       "      <th>FactTablePK</th>\n",
       "      <th>dimPatientPK</th>\n",
       "      <th>dimPhysicianPK</th>\n",
       "      <th>dimDatePostPK</th>\n",
       "      <th>dimDateServicePK</th>\n",
       "      <th>dimCPTCodePK</th>\n",
       "      <th>dimPayerPK</th>\n",
       "      <th>dimTransactionPK</th>\n",
       "      <th>dimLocationPK</th>\n",
       "      <th>PatientNumber</th>\n",
       "      <th>dimDiagnosisCodePK</th>\n",
       "      <th>CPTUnits</th>\n",
       "      <th>GrossCharge</th>\n",
       "      <th>Payment</th>\n",
       "      <th>Adjustment</th>\n",
       "      <th>AR</th>\n",
       "    </tr>\n",
       "  </thead>\n",
       "  <tbody>\n",
       "    <tr>\n",
       "      <th>0</th>\n",
       "      <td>1082164042</td>\n",
       "      <td>6066415</td>\n",
       "      <td>216412</td>\n",
       "      <td>20200528</td>\n",
       "      <td>20191215</td>\n",
       "      <td>583482</td>\n",
       "      <td>58987</td>\n",
       "      <td>49468</td>\n",
       "      <td>785522</td>\n",
       "      <td>21384136</td>\n",
       "      <td>92564854</td>\n",
       "      <td>-600</td>\n",
       "      <td>-10000.0</td>\n",
       "      <td>0.0</td>\n",
       "      <td>0.0</td>\n",
       "      <td>-6600.0</td>\n",
       "    </tr>\n",
       "    <tr>\n",
       "      <th>1</th>\n",
       "      <td>1027823678</td>\n",
       "      <td>5810482</td>\n",
       "      <td>216111</td>\n",
       "      <td>20200501</td>\n",
       "      <td>20191215</td>\n",
       "      <td>581655</td>\n",
       "      <td>98735</td>\n",
       "      <td>50858</td>\n",
       "      <td>786431</td>\n",
       "      <td>21387258</td>\n",
       "      <td>107435147</td>\n",
       "      <td>0</td>\n",
       "      <td>-3899.0</td>\n",
       "      <td>0.0</td>\n",
       "      <td>0.0</td>\n",
       "      <td>-3899.0</td>\n",
       "    </tr>\n",
       "    <tr>\n",
       "      <th>2</th>\n",
       "      <td>922963624</td>\n",
       "      <td>5337135</td>\n",
       "      <td>215646</td>\n",
       "      <td>20200102</td>\n",
       "      <td>20191215</td>\n",
       "      <td>596355</td>\n",
       "      <td>92873</td>\n",
       "      <td>53713</td>\n",
       "      <td>786027</td>\n",
       "      <td>21381441</td>\n",
       "      <td>81963015</td>\n",
       "      <td>-1</td>\n",
       "      <td>-2670.0</td>\n",
       "      <td>0.0</td>\n",
       "      <td>0.0</td>\n",
       "      <td>-2670.0</td>\n",
       "    </tr>\n",
       "    <tr>\n",
       "      <th>3</th>\n",
       "      <td>923120306</td>\n",
       "      <td>5337135</td>\n",
       "      <td>215646</td>\n",
       "      <td>20200102</td>\n",
       "      <td>20191215</td>\n",
       "      <td>596355</td>\n",
       "      <td>58987</td>\n",
       "      <td>53713</td>\n",
       "      <td>786027</td>\n",
       "      <td>21381441</td>\n",
       "      <td>81963015</td>\n",
       "      <td>-1</td>\n",
       "      <td>-2670.0</td>\n",
       "      <td>0.0</td>\n",
       "      <td>0.0</td>\n",
       "      <td>-2670.0</td>\n",
       "    </tr>\n",
       "    <tr>\n",
       "      <th>4</th>\n",
       "      <td>951760836</td>\n",
       "      <td>5337135</td>\n",
       "      <td>215646</td>\n",
       "      <td>20200205</td>\n",
       "      <td>20191215</td>\n",
       "      <td>596355</td>\n",
       "      <td>98735</td>\n",
       "      <td>53713</td>\n",
       "      <td>786027</td>\n",
       "      <td>21381441</td>\n",
       "      <td>72207535</td>\n",
       "      <td>-1</td>\n",
       "      <td>-2670.0</td>\n",
       "      <td>0.0</td>\n",
       "      <td>0.0</td>\n",
       "      <td>-2670.0</td>\n",
       "    </tr>\n",
       "  </tbody>\n",
       "</table>\n",
       "</div>"
      ],
      "text/plain": [
       "   FactTablePK  dimPatientPK  dimPhysicianPK  dimDatePostPK  dimDateServicePK  \\\n",
       "0   1082164042       6066415          216412       20200528          20191215   \n",
       "1   1027823678       5810482          216111       20200501          20191215   \n",
       "2    922963624       5337135          215646       20200102          20191215   \n",
       "3    923120306       5337135          215646       20200102          20191215   \n",
       "4    951760836       5337135          215646       20200205          20191215   \n",
       "\n",
       "   dimCPTCodePK  dimPayerPK  dimTransactionPK  dimLocationPK  PatientNumber  \\\n",
       "0        583482       58987             49468         785522       21384136   \n",
       "1        581655       98735             50858         786431       21387258   \n",
       "2        596355       92873             53713         786027       21381441   \n",
       "3        596355       58987             53713         786027       21381441   \n",
       "4        596355       98735             53713         786027       21381441   \n",
       "\n",
       "   dimDiagnosisCodePK  CPTUnits  GrossCharge  Payment  Adjustment      AR  \n",
       "0            92564854      -600     -10000.0      0.0         0.0 -6600.0  \n",
       "1           107435147         0      -3899.0      0.0         0.0 -3899.0  \n",
       "2            81963015        -1      -2670.0      0.0         0.0 -2670.0  \n",
       "3            81963015        -1      -2670.0      0.0         0.0 -2670.0  \n",
       "4            72207535        -1      -2670.0      0.0         0.0 -2670.0  "
      ]
     },
     "execution_count": 20,
     "metadata": {},
     "output_type": "execute_result"
    }
   ],
   "source": [
    "fact_table.head()"
   ]
  },
  {
   "cell_type": "code",
   "execution_count": 25,
   "id": "4bc4d129-5d83-4e39-8616-de6add500221",
   "metadata": {},
   "outputs": [
    {
     "name": "stdout",
     "output_type": "stream",
     "text": [
      "<class 'pandas.core.frame.DataFrame'>\n",
      "RangeIndex: 84220 entries, 0 to 84219\n",
      "Data columns (total 16 columns):\n",
      " #   Column              Non-Null Count  Dtype  \n",
      "---  ------              --------------  -----  \n",
      " 0   FactTablePK         84220 non-null  int64  \n",
      " 1   dimPatientPK        84220 non-null  int64  \n",
      " 2   dimPhysicianPK      84220 non-null  int64  \n",
      " 3   dimDatePostPK       84220 non-null  int64  \n",
      " 4   dimDateServicePK    84220 non-null  int64  \n",
      " 5   dimCPTCodePK        84220 non-null  int64  \n",
      " 6   dimPayerPK          84220 non-null  int64  \n",
      " 7   dimTransactionPK    84220 non-null  int64  \n",
      " 8   dimLocationPK       84220 non-null  int64  \n",
      " 9   PatientNumber       84220 non-null  int64  \n",
      " 10  dimDiagnosisCodePK  84220 non-null  int64  \n",
      " 11  CPTUnits            84220 non-null  int64  \n",
      " 12  GrossCharge         84220 non-null  float64\n",
      " 13  Payment             84220 non-null  float64\n",
      " 14  Adjustment          84220 non-null  float64\n",
      " 15  AR                  84220 non-null  float64\n",
      "dtypes: float64(4), int64(12)\n",
      "memory usage: 10.3 MB\n"
     ]
    }
   ],
   "source": [
    "#what is structure of fact table?\n",
    "\n",
    "fact_table.info()"
   ]
  },
  {
   "cell_type": "code",
   "execution_count": 27,
   "id": "e13e35c6-e370-4540-9304-d2ed296bdcd3",
   "metadata": {},
   "outputs": [
    {
     "data": {
      "text/plain": [
       "1"
      ]
     },
     "execution_count": 27,
     "metadata": {},
     "output_type": "execute_result"
    }
   ],
   "source": [
    "#how to check for missing values\n",
    "\n",
    "fact_table.isnull().sum() #check for missing values\n",
    "fact_table.duplicated().sum() #check for duplicated values"
   ]
  },
  {
   "cell_type": "code",
   "execution_count": 29,
   "id": "6aabb88f-43f7-4bd7-9fe8-99303e69909c",
   "metadata": {},
   "outputs": [
    {
     "data": {
      "text/html": [
       "<div>\n",
       "<style scoped>\n",
       "    .dataframe tbody tr th:only-of-type {\n",
       "        vertical-align: middle;\n",
       "    }\n",
       "\n",
       "    .dataframe tbody tr th {\n",
       "        vertical-align: top;\n",
       "    }\n",
       "\n",
       "    .dataframe thead th {\n",
       "        text-align: right;\n",
       "    }\n",
       "</style>\n",
       "<table border=\"1\" class=\"dataframe\">\n",
       "  <thead>\n",
       "    <tr style=\"text-align: right;\">\n",
       "      <th></th>\n",
       "      <th>GrossCharge</th>\n",
       "      <th>Payment</th>\n",
       "      <th>Adjustment</th>\n",
       "    </tr>\n",
       "  </thead>\n",
       "  <tbody>\n",
       "    <tr>\n",
       "      <th>count</th>\n",
       "      <td>84220.000000</td>\n",
       "      <td>84220.000000</td>\n",
       "      <td>84220.000000</td>\n",
       "    </tr>\n",
       "    <tr>\n",
       "      <th>mean</th>\n",
       "      <td>17.322095</td>\n",
       "      <td>-8.354468</td>\n",
       "      <td>-8.509651</td>\n",
       "    </tr>\n",
       "    <tr>\n",
       "      <th>std</th>\n",
       "      <td>128.027626</td>\n",
       "      <td>50.581962</td>\n",
       "      <td>69.072560</td>\n",
       "    </tr>\n",
       "    <tr>\n",
       "      <th>min</th>\n",
       "      <td>-10000.000000</td>\n",
       "      <td>-3810.000000</td>\n",
       "      <td>-3941.510000</td>\n",
       "    </tr>\n",
       "    <tr>\n",
       "      <th>25%</th>\n",
       "      <td>0.000000</td>\n",
       "      <td>0.000000</td>\n",
       "      <td>0.000000</td>\n",
       "    </tr>\n",
       "    <tr>\n",
       "      <th>50%</th>\n",
       "      <td>0.000000</td>\n",
       "      <td>0.000000</td>\n",
       "      <td>0.000000</td>\n",
       "    </tr>\n",
       "    <tr>\n",
       "      <th>75%</th>\n",
       "      <td>0.000000</td>\n",
       "      <td>0.000000</td>\n",
       "      <td>0.000000</td>\n",
       "    </tr>\n",
       "    <tr>\n",
       "      <th>max</th>\n",
       "      <td>6600.000000</td>\n",
       "      <td>1406.480000</td>\n",
       "      <td>1691.950000</td>\n",
       "    </tr>\n",
       "  </tbody>\n",
       "</table>\n",
       "</div>"
      ],
      "text/plain": [
       "        GrossCharge       Payment    Adjustment\n",
       "count  84220.000000  84220.000000  84220.000000\n",
       "mean      17.322095     -8.354468     -8.509651\n",
       "std      128.027626     50.581962     69.072560\n",
       "min   -10000.000000  -3810.000000  -3941.510000\n",
       "25%        0.000000      0.000000      0.000000\n",
       "50%        0.000000      0.000000      0.000000\n",
       "75%        0.000000      0.000000      0.000000\n",
       "max     6600.000000   1406.480000   1691.950000"
      ]
     },
     "execution_count": 29,
     "metadata": {},
     "output_type": "execute_result"
    }
   ],
   "source": [
    "#what are the minimum and maximum values for GrossCharge,  payment, and Adjustments?\n",
    "\n",
    "fact_table[['GrossCharge', 'Payment', 'Adjustment']].describe()"
   ]
  },
  {
   "cell_type": "code",
   "execution_count": 31,
   "id": "1dbe6276-a469-46de-9639-565618f2f722",
   "metadata": {},
   "outputs": [
    {
     "data": {
      "text/plain": [
       "4801"
      ]
     },
     "execution_count": 31,
     "metadata": {},
     "output_type": "execute_result"
    }
   ],
   "source": [
    "#how many unique dimDiagnosisCodePK values exists?\n",
    "\n",
    "fact_table['dimDiagnosisCodePK'].nunique()"
   ]
  },
  {
   "cell_type": "code",
   "execution_count": 43,
   "id": "6e6595bd-f4bd-4e5d-af25-4f56a9afd2b2",
   "metadata": {},
   "outputs": [],
   "source": [
    "sheets = {sheet_name: excel_file.parse(sheet_name) for sheet_name in excel_file.sheet_names}"
   ]
  },
  {
   "cell_type": "code",
   "execution_count": 44,
   "id": "54dde0b5-db57-41a6-81a0-c4acb226894a",
   "metadata": {},
   "outputs": [],
   "source": [
    "dim_patient = sheets['dimPatient']"
   ]
  },
  {
   "cell_type": "code",
   "execution_count": 47,
   "id": "d774eaff-5589-4b56-9559-5bab1f29b73b",
   "metadata": {},
   "outputs": [
    {
     "data": {
      "text/plain": [
       "Email    1\n",
       "City     1\n",
       "dtype: int64"
      ]
     },
     "execution_count": 47,
     "metadata": {},
     "output_type": "execute_result"
    }
   ],
   "source": [
    "#how many patient missing email or city column?\n",
    "dim_patient[['Email','City']].isnull().sum()"
   ]
  },
  {
   "cell_type": "code",
   "execution_count": 49,
   "id": "66a1b631-31d7-451e-9c25-42e6aa0a12c2",
   "metadata": {},
   "outputs": [
    {
     "data": {
      "text/plain": [
       "PatientGender\n",
       "Female    3004\n",
       "Male      2111\n",
       "Femle        1\n",
       "Mle          1\n",
       "Name: count, dtype: int64"
      ]
     },
     "execution_count": 49,
     "metadata": {},
     "output_type": "execute_result"
    }
   ],
   "source": [
    "#what are the unique values in the PatientGender column, n how often they occur?\n",
    "\n",
    "dim_patient['PatientGender'].value_counts()"
   ]
  },
  {
   "cell_type": "code",
   "execution_count": 51,
   "id": "67d4ee6f-40b1-42d2-9741-f8fac3396376",
   "metadata": {},
   "outputs": [
    {
     "data": {
      "text/plain": [
       "count    5117.000000\n",
       "mean       44.355286\n",
       "std        26.023386\n",
       "min         0.000000\n",
       "25%        21.000000\n",
       "50%        44.000000\n",
       "75%        67.000000\n",
       "max        90.000000\n",
       "Name: PatientAge, dtype: float64"
      ]
     },
     "execution_count": 51,
     "metadata": {},
     "output_type": "execute_result"
    }
   ],
   "source": [
    "#What is the age distribution of patients?\n",
    "\n",
    "dim_patient['PatientAge'].describe()"
   ]
  },
  {
   "cell_type": "code",
   "execution_count": 53,
   "id": "7b2af2e3-5bf8-4ba5-ad81-07b69dcf8e92",
   "metadata": {},
   "outputs": [],
   "source": [
    "dim_transaction = sheets['dimTransaction']"
   ]
  },
  {
   "cell_type": "code",
   "execution_count": 55,
   "id": "e4b49c5f-b2d6-44ab-9949-c39646388b9a",
   "metadata": {},
   "outputs": [
    {
     "data": {
      "text/plain": [
       "array(['  Charge ', 'Charge', 'Adjustment', 'Payment', 'Denial',\n",
       "       'Invoice', 'Bill'], dtype=object)"
      ]
     },
     "execution_count": 55,
     "metadata": {},
     "output_type": "execute_result"
    }
   ],
   "source": [
    "#what are the unique transaction types?\n",
    "\n",
    "dim_transaction['TransactionType'].unique()"
   ]
  },
  {
   "cell_type": "code",
   "execution_count": 57,
   "id": "bc466add-28d7-4305-86e0-532606f894b4",
   "metadata": {},
   "outputs": [
    {
     "data": {
      "text/plain": [
       "1"
      ]
     },
     "execution_count": 57,
     "metadata": {},
     "output_type": "execute_result"
    }
   ],
   "source": [
    "#how many transaction are missing in AdjustmentReason?\n",
    "\n",
    "dim_transaction['AdjustmentReason'].isnull().sum()"
   ]
  },
  {
   "cell_type": "code",
   "execution_count": 61,
   "id": "324a2ca9-753e-4a5a-a7d3-89092757873b",
   "metadata": {},
   "outputs": [
    {
     "name": "stdout",
     "output_type": "stream",
     "text": [
      "Before cleaning - Negative and zero values in FactTable:\n",
      "       GrossCharge  CPTUnits\n",
      "0         -10000.0      -600\n",
      "1          -3899.0         0\n",
      "2          -2670.0        -1\n",
      "3          -2670.0        -1\n",
      "4          -2670.0        -1\n",
      "...            ...       ...\n",
      "84215       6243.0         1\n",
      "84216       6600.0       600\n",
      "84217       6600.0       600\n",
      "84218       6600.0       600\n",
      "84219     -10000.0      -600\n",
      "\n",
      "[84220 rows x 2 columns]\n"
     ]
    }
   ],
   "source": [
    "#before cleaning\n",
    "\n",
    "print('Before cleaning - Negative and zero values in FactTable:')\n",
    "print(fact_table[['GrossCharge','CPTUnits']])"
   ]
  },
  {
   "cell_type": "code",
   "execution_count": 63,
   "id": "6fbde932-408a-4197-8d26-05e43652b97c",
   "metadata": {},
   "outputs": [],
   "source": [
    "fact_table_cleaned = fact_table[(fact_table['GrossCharge'] > 0) & (fact_table['CPTUnits']>0)]"
   ]
  },
  {
   "cell_type": "code",
   "execution_count": 65,
   "id": "a4997424-c3d2-4893-85ca-72ac7e157152",
   "metadata": {},
   "outputs": [
    {
     "name": "stdout",
     "output_type": "stream",
     "text": [
      "       GrossCharge  CPTUnits\n",
      "74767         0.01         1\n",
      "74768         0.01         1\n",
      "74769         0.01         1\n",
      "74770         0.01         1\n",
      "74771         0.01         1\n",
      "...            ...       ...\n",
      "84214      4941.00         1\n",
      "84215      6243.00         1\n",
      "84216      6600.00       600\n",
      "84217      6600.00       600\n",
      "84218      6600.00       600\n",
      "\n",
      "[9452 rows x 2 columns]\n"
     ]
    }
   ],
   "source": [
    "print(fact_table_cleaned[['GrossCharge','CPTUnits']])"
   ]
  },
  {
   "cell_type": "code",
   "execution_count": 69,
   "id": "5d679504-12e2-4778-996d-1132297f525f",
   "metadata": {},
   "outputs": [
    {
     "name": "stdout",
     "output_type": "stream",
     "text": [
      "Email    1\n",
      "City     1\n",
      "dtype: int64\n"
     ]
    }
   ],
   "source": [
    "print(dim_patient[['Email','City']].isnull().sum())"
   ]
  },
  {
   "cell_type": "code",
   "execution_count": 73,
   "id": "7c10e503-2ac0-437d-b560-269ad5fd41b3",
   "metadata": {},
   "outputs": [],
   "source": [
    "dim_patient_cleaned = dim_patient.fillna({'Email':'unknown@datasource.com','City':'unknown'})"
   ]
  },
  {
   "cell_type": "code",
   "execution_count": 75,
   "id": "9dd531f0-25f0-4bea-b6fe-fe693563baaf",
   "metadata": {},
   "outputs": [
    {
     "name": "stdout",
     "output_type": "stream",
     "text": [
      "Email    0\n",
      "City     0\n",
      "dtype: int64\n"
     ]
    }
   ],
   "source": [
    "print(dim_patient_cleaned[['Email','City']].isnull().sum())"
   ]
  },
  {
   "cell_type": "code",
   "execution_count": 79,
   "id": "ddde874b-9221-46b8-bf74-0321ed9b32fd",
   "metadata": {},
   "outputs": [
    {
     "name": "stdout",
     "output_type": "stream",
     "text": [
      "PatientGender\n",
      "Female    3004\n",
      "Male      2111\n",
      "Femle        1\n",
      "Mle          1\n",
      "Name: count, dtype: int64\n"
     ]
    }
   ],
   "source": [
    "print(dim_patient['PatientGender'].value_counts())"
   ]
  },
  {
   "cell_type": "code",
   "execution_count": 83,
   "id": "f5bd6e05-8170-444b-85be-eb827744eeb4",
   "metadata": {},
   "outputs": [],
   "source": [
    "dim_patient_cleaned = dim_patient.replace({'Femle': 'Female', 1: 'Male'})\n"
   ]
  },
  {
   "cell_type": "code",
   "execution_count": 91,
   "id": "6b84c9a5-2036-42ac-8c6e-2df706c0d314",
   "metadata": {},
   "outputs": [
    {
     "name": "stdout",
     "output_type": "stream",
     "text": [
      "PatientGender\n",
      "Female    3005\n",
      "Male      2112\n",
      "Name: count, dtype: int64\n"
     ]
    }
   ],
   "source": [
    "print(dim_patient_cleaned['PatientGender'].value_counts())"
   ]
  },
  {
   "cell_type": "code",
   "execution_count": 89,
   "id": "1a92d7ad-98a8-496d-aa9b-f9572b4ca74f",
   "metadata": {},
   "outputs": [],
   "source": [
    "dim_patient_cleaned = dim_patient.replace({'Femle': 'Female', 'Mle':'Male'})"
   ]
  },
  {
   "cell_type": "code",
   "execution_count": 97,
   "id": "69142771-7f6c-406d-8885-2fefbf273f14",
   "metadata": {},
   "outputs": [
    {
     "name": "stdout",
     "output_type": "stream",
     "text": [
      "Before cleaning dim-transaction whitespace\n",
      "['  Charge ' 'Charge' 'Adjustment' 'Payment' 'Denial' 'Invoice' 'Bill']\n"
     ]
    }
   ],
   "source": [
    "print('Before cleaning dim-transaction whitespace')\n",
    "print(dim_transaction['TransactionType'].unique())"
   ]
  },
  {
   "cell_type": "code",
   "execution_count": 105,
   "id": "ac21dc4e-12f4-42d3-b1fc-4fcaf94891ca",
   "metadata": {},
   "outputs": [],
   "source": [
    "# Initialize dim_transaction_cleaned as a copy of dim_transaction\n",
    "dim_transaction_cleaned = dim_transaction.copy()\n",
    "\n",
    "# Remove leading and trailing whitespace from the 'TransactionType' column\n",
    "dim_transaction_cleaned['TransactionType'] = dim_transaction['TransactionType'].str.strip()"
   ]
  },
  {
   "cell_type": "code",
   "execution_count": 103,
   "id": "114c107e-5f7b-4f62-9564-ce9a9748f042",
   "metadata": {},
   "outputs": [
    {
     "name": "stdout",
     "output_type": "stream",
     "text": [
      "['Charge' 'Adjustment' 'Payment' 'Denial' 'Invoice' 'Bill']\n"
     ]
    }
   ],
   "source": [
    "print(dim_transaction_cleaned['TransactionType'].unique())"
   ]
  },
  {
   "cell_type": "code",
   "execution_count": 125,
   "id": "9b8a0a9b-c637-4e46-b44b-ae4b19c2cd9f",
   "metadata": {},
   "outputs": [
    {
     "name": "stdout",
     "output_type": "stream",
     "text": [
      "1 missing values\n"
     ]
    }
   ],
   "source": [
    "print(dim_transaction['AdjustmentReason'].isnull().sum(),\"missing values\")"
   ]
  },
  {
   "cell_type": "code",
   "execution_count": 141,
   "id": "a20ed6c0-158b-4e55-ab27-adaacc715040",
   "metadata": {},
   "outputs": [
    {
     "name": "stdout",
     "output_type": "stream",
     "text": [
      "0 missing values\n"
     ]
    }
   ],
   "source": [
    "dim_transaction_cleaned['AdjustmentReason'] = dim_transaction_cleaned['AdjustmentReason'].fillna('NaN')\n",
    "print(dim_transaction_cleaned['AdjustmentReason'].isnull().sum(),\"missing values\")"
   ]
  },
  {
   "cell_type": "code",
   "execution_count": 151,
   "id": "96bf7f69-a487-42a3-a8bc-82cca971986b",
   "metadata": {},
   "outputs": [
    {
     "ename": "NameError",
     "evalue": "name 'dim_Physician' is not defined",
     "output_type": "error",
     "traceback": [
      "\u001b[1;31m---------------------------------------------------------------------------\u001b[0m",
      "\u001b[1;31mNameError\u001b[0m                                 Traceback (most recent call last)",
      "Cell \u001b[1;32mIn[151], line 1\u001b[0m\n\u001b[1;32m----> 1\u001b[0m \u001b[38;5;28mprint\u001b[39m(dim_Physician[\u001b[38;5;124m'\u001b[39m\u001b[38;5;124mProviderFTE\u001b[39m\u001b[38;5;124m'\u001b[39m])\n",
      "\u001b[1;31mNameError\u001b[0m: name 'dim_Physician' is not defined"
     ]
    }
   ],
   "source": [
    "print(dim_Physician['ProviderFTE'])"
   ]
  },
  {
   "cell_type": "code",
   "execution_count": null,
   "id": "440225b7-1e78-4a8e-bef9-79c0fb24e9f5",
   "metadata": {},
   "outputs": [],
   "source": []
  }
 ],
 "metadata": {
  "kernelspec": {
   "display_name": "Python 3 (ipykernel)",
   "language": "python",
   "name": "python3"
  },
  "language_info": {
   "codemirror_mode": {
    "name": "ipython",
    "version": 3
   },
   "file_extension": ".py",
   "mimetype": "text/x-python",
   "name": "python",
   "nbconvert_exporter": "python",
   "pygments_lexer": "ipython3",
   "version": "3.12.4"
  }
 },
 "nbformat": 4,
 "nbformat_minor": 5
}
